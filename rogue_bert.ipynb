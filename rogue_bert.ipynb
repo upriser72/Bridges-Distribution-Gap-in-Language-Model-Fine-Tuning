# =============================================
# Multilingual Summarization Evaluation Script
# Computes ROUGE + BERTScore per language
# Saves results to CSV
# =============================================

from transformers import AutoTokenizer, AutoModelForSeq2SeqLM
import torch
import evaluate
import bert_score
import pandas as pd

# -------------------------------
# CONFIG
# -------------------------------
MODEL_PATH = "google/mt5-small"  # ⬅ replace with your fine-tuned model path
DEVICE = "cuda" if torch.cuda.is_available() else "cpu"
MAX_INPUT = 512
MAX_OUTPUT = 100
OUTPUT_CSV = "summarization_results.csv"
# -------------------------------

# Load model and tokenizer
tokenizer = AutoTokenizer.from_pretrained(MODEL_PATH, use_fast=False)
model = AutoModelForSeq2SeqLM.from_pretrained(MODEL_PATH).to(DEVICE)

# -------------------------------
# Example multilingual test data
# -------------------------------
test_samples = {
    "english": [
        {
            "input": (
                "India's Chandrayaan-3 mission successfully landed on the Moon's south pole, "
                "making India the first country to reach this unexplored region. "
                "The mission aims to study the composition of lunar soil, search for water ice, "
                "and test new technologies for future interplanetary missions. "
                "The success was celebrated across the nation as a major milestone "
                "in India's growing space exploration program."
            ),
            "reference": "Chandrayaan-3 successfully landed on the Moon's south pole, marking a historic achievement for India in space exploration."
        },
        {
            "input": (
                "Climate change continues to be one of the most pressing global challenges. "
                "Rising temperatures have led to melting glaciers, rising sea levels, and severe weather events. "
                "Governments around the world are being urged to take stronger actions "
                "to reduce carbon emissions and promote renewable energy sources. "
                "Experts warn that without immediate action, future generations will face devastating consequences."
            ),
            "reference": "Climate change is causing global warming and extreme weather, urging nations to act quickly to cut emissions."
        }
    ],
    "hindi": [
        {
            "input": (
                "भारत के चंद्रयान-3 मिशन ने चंद्रमा के दक्षिणी ध्रुव पर सफलतापूर्वक लैंडिंग की, "
                "जिससे भारत इस क्षेत्र में पहुँचने वाला पहला देश बन गया। "
                "इस मिशन का उद्देश्य चंद्रमा की मिट्टी की संरचना का अध्ययन करना, "
                "पानी की बर्फ की खोज करना और भविष्य के अंतरग्रहीय अभियानों के लिए नई तकनीकों का परीक्षण करना है। "
                "इस सफलता को पूरे देश में अंतरिक्ष क्षेत्र में एक ऐतिहासिक उपलब्धि के रूप में मनाया गया।"
            ),
            "reference": "भारत का चंद्रयान-3 मिशन सफल रहा, जिसने चंद्रमा के दक्षिणी ध्रुव पर उतरकर इतिहास रच दिया।"
        },
        {
            "input": (
                "जलवायु परिवर्तन आज विश्व की सबसे बड़ी समस्याओं में से एक बन चुका है। "
                "बढ़ते तापमान के कारण ग्लेशियर पिघल रहे हैं, समुद्र का स्तर बढ़ रहा है और "
                "भीषण मौसम की घटनाएँ बढ़ रही हैं। विशेषज्ञ चेतावनी दे रहे हैं कि "
                "यदि तुरंत कदम नहीं उठाए गए तो आने वाली पीढ़ियों को गंभीर परिणाम भुगतने पड़ेंगे।"
            ),
            "reference": "जलवायु परिवर्तन से पृथ्वी का तापमान बढ़ रहा है और आपदाएँ बढ़ रही हैं, जिससे तुरंत कदम उठाने की आवश्यकता है।"
        }
    ],
    "marathi": [
        {
            "input": (
                "भारताच्या चांद्रयान-३ मोहिमेने चंद्राच्या दक्षिण ध्रुवावर यशस्वी लँडिंग केली आहे, "
                "ज्यामुळे भारत हा हा प्रदेश गाठणारा पहिला देश ठरला आहे. "
                "या मोहिमेचा उद्देश चंद्रावरील मातीचे परीक्षण, बर्फाच्या खुणांचा शोध "
                "आणि भविष्यातील अवकाश मोहिमांसाठी तंत्रज्ञानाची चाचणी करणे हा आहे. "
                "या यशामुळे भारताच्या अवकाश कार्यक्रमात नवा अध्याय लिहिला गेला आहे."
            ),
            "reference": "चांद्रयान-३ च्या यशस्वी लँडिंगमुळे भारताने अवकाश क्षेत्रात ऐतिहासिक कामगिरी केली आहे."
        },
        {
            "input": (
                "हवामान बदल हा जगभरातील सर्वात मोठा पर्यावरणीय प्रश्न बनला आहे. "
                "वाढत्या तापमानामुळे हिमनद्या वितळत आहेत, समुद्राची पातळी वाढत आहे "
                "आणि नैसर्गिक आपत्तींचे प्रमाण वाढले आहे. "
                "तज्ञांनी इशारा दिला आहे की जर तत्काळ पावले उचलली नाहीत तर भविष्यात गंभीर परिणाम होऊ शकतात."
            ),
            "reference": "हवामान बदलामुळे समुद्राची पातळी आणि आपत्ती वाढत असून तातडीने उपायांची गरज आहे."
        }
    ]
}

# -------------------------------
# Generate summaries
# -------------------------------
def generate_summary(texts):
    enc = tokenizer(texts, return_tensors="pt", padding=True, truncation=True, max_length=MAX_INPUT)
    enc = {k: v.to(DEVICE) for k, v in enc.items()}
    with torch.no_grad():
        outs = model.generate(**enc, max_length=MAX_OUTPUT, num_beams=4, early_stopping=True)
    decoded = [tokenizer.decode(g, skip_special_tokens=True).strip() for g in outs]
    return decoded

# -------------------------------
# Evaluation setup
# -------------------------------
rouge_metric = evaluate.load("rouge")
rows = []

# -------------------------------
# Per-language evaluation
# -------------------------------
for lang, samples in test_samples.items():
    print(f"\n=== Evaluating {lang.upper()} ===")

    inputs = [s["input"] for s in samples]
    refs = [s["reference"] for s in samples]
    hyps = generate_summary(inputs)

    # Compute ROUGE
    rouge_scores = rouge_metric.compute(predictions=hyps, references=refs)
    rouge_results = {k: v.mid.fmeasure if hasattr(v, 'mid') else v for k, v in rouge_scores.items()}

    # Compute BERTScore
    P, R, F1 = bert_score.score(hyps, refs, lang="multilingual", verbose=False)
    bert_f1_lang = F1.mean().item()

    print(f"\nROUGE: { {k: round(v, 4) for k, v in rouge_results.items()} }")
    print(f"BERTScore F1: {bert_f1_lang:.4f}")

    # Store results
    for i, (inp, hyp, ref) in enumerate(zip(inputs, hyps, refs)):
        print(f"\nSample {i+1}:")
        print("Input paragraph:", inp)
        print("Reference summary:", ref)
        print("Generated summary:", hyp)

        rows.append({
            "Language": lang,
            "Input": inp,
            "Reference": ref,
            "Generated": hyp,
            "ROUGE-1": rouge_results.get("rouge1", 0.0),
            "ROUGE-2": rouge_results.get("rouge2", 0.0),
            "ROUGE-L": rouge_results.get("rougeL", 0.0),
            "BERTScore_F1": bert_f1_lang
        })

# -------------------------------
# Save results to CSV
# -------------------------------
df = pd.DataFrame(rows)
df.to_csv(OUTPUT_CSV, index=False, encoding="utf-8-sig")
print(f"\n✅ Evaluation complete. Results saved to '{OUTPUT_CSV}'")
