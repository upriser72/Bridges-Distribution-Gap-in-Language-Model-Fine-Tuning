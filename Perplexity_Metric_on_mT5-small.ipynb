{
  "nbformat": 4,
  "nbformat_minor": 0,
  "metadata": {
    "colab": {
      "provenance": [],
      "gpuType": "T4"
    },
    "kernelspec": {
      "name": "python3",
      "display_name": "Python 3"
    },
    "language_info": {
      "name": "python"
    },
    "accelerator": "GPU"
  },
  "cells": [
    {
      "cell_type": "code",
      "source": [
        "from transformers import AutoTokenizer, AutoModelForSeq2SeqLM\n",
        "import torch\n",
        "import math\n",
        "\n",
        "# Load Google's mT5 model\n",
        "model_name = \"google/mt5-small\"\n",
        "tokenizer = AutoTokenizer.from_pretrained(model_name)\n",
        "model = AutoModelForSeq2SeqLM.from_pretrained(model_name)\n",
        "\n",
        "device = \"cuda\" if torch.cuda.is_available() else \"cpu\"\n",
        "model.to(device)\n",
        "\n",
        "# Sample texts in different languages (can be replaced with corpus data)\n",
        "texts = {\n",
        "    \"English\": \"Artificial intelligence and machine learning are transforming industries.\",\n",
        "    \"Hindi\": \"कृत्रिम बुद्धिमत्ता और मशीन लर्निंग उद्योगों को बदल रही हैं।\",\n",
        "    \"Marathi\": \"कृत्रिम बुद्धिमत्ता आणि मशीन लर्निंग उद्योगांमध्ये परिवर्तन घडवत आहेत.\"\n",
        "}\n",
        "\n",
        "def compute_perplexity(text):\n",
        "    # Tokenize and encode\n",
        "    inputs = tokenizer(text, return_tensors=\"pt\", truncation=True, padding=True).to(device)\n",
        "    with torch.no_grad():\n",
        "        outputs = model(**inputs, labels=inputs[\"input_ids\"])\n",
        "        loss = outputs.loss\n",
        "    return math.exp(loss.item())\n",
        "\n",
        "# Evaluate perplexity per language\n",
        "results = {}\n",
        "for lang, text in texts.items():\n",
        "    ppl = compute_perplexity(text)\n",
        "    results[lang] = ppl\n",
        "    print(f\"{lang} Perplexity: {ppl:.2f}\")\n",
        "\n",
        "# Optional: compare balance\n",
        "print(\"\\n--- Multilinguality Balance Summary ---\")\n",
        "for lang, ppl in results.items():\n",
        "    print(f\"{lang}: {ppl:.2f}\")\n"
      ],
      "metadata": {
        "colab": {
          "base_uri": "https://localhost:8080/"
        },
        "id": "C-kw592jl9Bo",
        "outputId": "c1962572-1b95-4bc7-fe16-63f1bb1f6a5e"
      },
      "execution_count": 2,
      "outputs": [
        {
          "output_type": "stream",
          "name": "stderr",
          "text": [
            "/usr/local/lib/python3.12/dist-packages/transformers/convert_slow_tokenizer.py:564: UserWarning: The sentencepiece tokenizer that you are converting to a fast tokenizer uses the byte fallback option which is not implemented in the fast tokenizers. In practice this means that the fast version of the tokenizer can produce unknown tokens whereas the sentencepiece version would have converted these unknown tokens into a sequence of byte tokens matching the original piece of text.\n",
            "  warnings.warn(\n",
            "Asking to truncate to max_length but no maximum length is provided and the model has no predefined maximum length. Default to no truncation.\n"
          ]
        },
        {
          "output_type": "stream",
          "name": "stdout",
          "text": [
            "English Perplexity: 479115.35\n",
            "Hindi Perplexity: 10206386883393.80\n",
            "Marathi Perplexity: 2064627.93\n",
            "\n",
            "--- Multilinguality Balance Summary ---\n",
            "English: 479115.35\n",
            "Hindi: 10206386883393.80\n",
            "Marathi: 2064627.93\n"
          ]
        }
      ]
    },
    {
      "cell_type": "code",
      "source": [],
      "metadata": {
        "id": "_bk7Va1mnYMR"
      },
      "execution_count": 2,
      "outputs": []
    }
  ]
}